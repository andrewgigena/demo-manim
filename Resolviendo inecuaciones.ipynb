{
 "cells": [
  {
   "cell_type": "code",
   "execution_count": 1,
   "id": "e86c3aa3-bd7c-40f1-a4f3-5b59e4ae4e17",
   "metadata": {},
   "outputs": [
    {
     "data": {
      "text/html": [
       "<pre style=\"white-space:pre;overflow-x:auto;line-height:normal;font-family:Menlo,'DejaVu Sans Mono',consolas,'Courier New',monospace\">Manim Community <span style=\"color: #008000; text-decoration-color: #008000\">v0.17.2</span>\n",
       "\n",
       "</pre>\n"
      ],
      "text/plain": [
       "Manim Community \u001b[32mv0.\u001b[0m\u001b[32m17.2\u001b[0m\n",
       "\n"
      ]
     },
     "metadata": {},
     "output_type": "display_data"
    }
   ],
   "source": [
    "from manim import *\n",
    "from manim.utils.color import Colors"
   ]
  },
  {
   "cell_type": "code",
   "execution_count": 4,
   "id": "dcaaaf11-ca84-4168-921e-bce73cf594dd",
   "metadata": {},
   "outputs": [
    {
     "name": "stderr",
     "output_type": "stream",
     "text": [
      "                                                                                                                                                     \r"
     ]
    },
    {
     "data": {
      "text/html": [
       "<video src=\"media/jupyter/Equation@2023-04-01@14-36-06.mp4\" controls autoplay loop style=\"max-width: 60%;\"  >\n",
       "      Your browser does not support the <code>video</code> element.\n",
       "    </video>"
      ],
      "text/plain": [
       "<IPython.core.display.Video object>"
      ]
     },
     "metadata": {},
     "output_type": "display_data"
    }
   ],
   "source": [
    "%%manim -qm -v WARNING Equation\n",
    "\n",
    "FONT_SIZE_BIG = 60\n",
    "FONT_SIZE_MEDIUM = 48\n",
    "FONT_SIZE_NORMAL = 40\n",
    "FONT_SIZE_SMALL = 32\n",
    "\n",
    "EQUATION = r\"|{-2x + 1}| > {|x - 2| + 1}\"\n",
    "EQUATION_CASE1 = r\"\\textbf{Caso 1: }$-2x+1 \\geq 0$, $\\quad x-2 < 0$\"\n",
    "EQUATION_CASE2 = r\"\\textbf{Caso 2: }$-2x+1 < 0$, $\\quad x-2 < 0$\"\n",
    "EQUATION_CASE3 = r\"\\textbf{Caso 3: }$-2x+1 < 0$, $\\quad x-2 \\geq 0$\"\n",
    "EQUATION_CASE4 = r\"\\textbf{Caso 4: }$-2x+1 \\geq 0$, $\\quad x-2 \\geq 0$\"\n",
    "\n",
    "CASE1_P1_1 = MathTex(r\"-2x + 1 > -(x - 2) + 1\", font_size=FONT_SIZE_MEDIUM)\n",
    "CASE1_E1_1 = r\"Dado que -2x + 1 < 0\"\n",
    "CASE1_P1_2 = MathTex(r\"-2x + 1 > -x + 2 + 1\", font_size=FONT_SIZE_MEDIUM)\n",
    "CASE1_E1_2 = r\"Eliminamos parentesis\"\n",
    "CASE1_P1_3 = MathTex(r\"-2x + 1 > -x + 3\", font_size=FONT_SIZE_MEDIUM)\n",
    "CASE1_E1_3 = r\"Simplificamos\"\n",
    "CASE1_P2_1 = MathTex(r\"-2x + 1 + x > -x + 3 + x\", font_size=FONT_SIZE_MEDIUM) \n",
    "CASE1_E2_1 = r\"Agregamos x en ambos lados\"\n",
    "CASE1_P2_2 = MathTex(r\"x - 2x + 1 > x - x + 3\", font_size=FONT_SIZE_MEDIUM)\n",
    "CASE1_E2_2 = r\"Ordenamos la ecuacion\"\n",
    "CASE1_P2_3 = MathTex(r\"- x + 1 > 3\", font_size=FONT_SIZE_MEDIUM)\n",
    "CASE1_E2_3 = r\"Simplificamos\"\n",
    "CASE1_P3_1 = MathTex(r\"- x + 1 - 1 > 3 - 1\", font_size=FONT_SIZE_MEDIUM) \n",
    "CASE1_E3_1 = r\"Agregamos -1 en ambos lados\"\n",
    "CASE1_P3_2 = MathTex(r\"- x > 2\", font_size=FONT_SIZE_MEDIUM)\n",
    "CASE1_E3_2 = r\"Simplificamos\"\n",
    "CASE1_P4_1 = MathTex(r\"x < -2\", font_size=FONT_SIZE_MEDIUM) # Solution\n",
    "CASE1_E4_1 = r\"Dividimos por -1\"\n",
    "\n",
    "class Equation(Scene):\n",
    "    def set_new_explanation(self, text_string):\n",
    "        self.play(FadeOut(self.explanation))\n",
    "        self.explanation = self.get_explanation(text_string)\n",
    "        self.play(FadeIn(self.explanation, run_time=0.8))\n",
    "        \n",
    "    def get_explanation(self, text_string):\n",
    "        return Tex(text_string).to_corner(UL)\n",
    "    \n",
    "    def explain_and_step(self, explanation, new_step, last_step = None):\n",
    "        self.set_new_explanation(explanation)\n",
    "        if last_step is None:\n",
    "            last_step = self.last_step\n",
    "        \n",
    "        self.play(Transform(last_step.copy(), new_step.next_to(last_step, DOWN)))\n",
    "        self.last_step = new_step\n",
    "    \n",
    "    def construct(self):\n",
    "        # Section 1:\n",
    "        # Animation 1: Write the equation\n",
    "        equation = MathTex(EQUATION)\n",
    "        equation.shift(UP)\n",
    "        self.play(Write(equation))\n",
    "        \n",
    "        # Animation 2: Split the equation into 4 cases\n",
    "        case1 = Tex(EQUATION_CASE1, font_size=FONT_SIZE_NORMAL, color=Colors.purple.value) \n",
    "        case2 = Tex(EQUATION_CASE2, font_size=FONT_SIZE_NORMAL, color=Colors.red.value).next_to(case1, DOWN)\n",
    "        case3 = Tex(EQUATION_CASE3, font_size=FONT_SIZE_NORMAL, color=Colors.yellow.value).next_to(case2, DOWN)\n",
    "        case4 = Tex(EQUATION_CASE4, font_size=FONT_SIZE_NORMAL, color=Colors.green.value).next_to(case3, DOWN)\n",
    "        cases = [case1, case2, case3, case4]\n",
    "        for case in cases:\n",
    "            self.play(Write(case))\n",
    "            self.wait(0.5)\n",
    "        \n",
    "        # Animation 3: Group and move to upper left \n",
    "        vg = VGroup(equation, *cases)\n",
    "        \n",
    "        self.play(Transform(vg, vg.copy().scale(0.8).to_corner(DL)))\n",
    "        self.wait()\n",
    "        \n",
    "        # Animation 4: Setup up explainer\n",
    "        self.explanation = self.get_explanation(\"¡Empecemos!\")\n",
    "        self.last_step = None\n",
    "        self.play(Write(self.explanation))\n",
    "        self.wait(3)\n",
    "        \n",
    "        # Animation 5: Set up the first case to solve\n",
    "        working_case = case1.copy()\n",
    "        working_equation = equation.copy()\n",
    "        self.play(Transform(case1.copy(), working_case.scale(1.2).to_corner(UR)))\n",
    "        self.play(Transform(equation.copy(), working_equation.next_to(working_case, DOWN)))\n",
    "        self.wait()\n",
    "        \n",
    "        # Animation 5: Solve the first case\n",
    "        self.explain_and_step(CASE1_E1_1, CASE1_P1_1, last_step = working_equation)\n",
    "        self.explain_and_step(CASE1_E1_2, CASE1_P1_2)\n",
    "        self.explain_and_step(CASE1_E1_3, CASE1_P1_3)\n",
    "        self.explain_and_step(CASE1_E2_1, CASE1_P2_1)\n",
    "        self.explain_and_step(CASE1_E2_2, CASE1_P2_2)\n",
    "        self.explain_and_step(CASE1_E2_3, CASE1_P2_3)\n",
    "        self.explain_and_step(CASE1_E3_1, CASE1_P3_1)\n",
    "        self.explain_and_step(CASE1_E3_2, CASE1_P3_2)\n",
    "        self.explain_and_step(CASE1_E4_1, CASE1_P4_1)\n",
    "        self.wait()\n",
    "        self.set_new_explanation(\"¡Gracias por ver!\")\n",
    "        self.wait()"
   ]
  }
 ],
 "metadata": {
  "kernelspec": {
   "display_name": "Python 3 (ipykernel)",
   "language": "python",
   "name": "python3"
  },
  "language_info": {
   "codemirror_mode": {
    "name": "ipython",
    "version": 3
   },
   "file_extension": ".py",
   "mimetype": "text/x-python",
   "name": "python",
   "nbconvert_exporter": "python",
   "pygments_lexer": "ipython3",
   "version": "3.10.10"
  }
 },
 "nbformat": 4,
 "nbformat_minor": 5
}
